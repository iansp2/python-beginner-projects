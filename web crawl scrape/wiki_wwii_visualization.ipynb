{
 "cells": [
  {
   "cell_type": "markdown",
   "metadata": {},
   "source": [
    "This is a simple visualization of the data scraped from wikipedia's wwii article."
   ]
  },
  {
   "cell_type": "code",
   "execution_count": 1,
   "metadata": {},
   "outputs": [],
   "source": [
    "import json\n",
    "import plotly.express as px\n",
    "import pandas as pd"
   ]
  },
  {
   "cell_type": "code",
   "execution_count": 8,
   "metadata": {},
   "outputs": [],
   "source": [
    "with open('./wiki scrape/wwii_scraper/output.json') as f:\n",
    "    data = json.load(f)\n",
    "\n",
    "# Convert the JSON data into a pandas DataFrame\n",
    "df = pd.DataFrame(data)\n",
    "df_filtered = df[(df['date'] >= \"1939\") & (df['date'] <= \"1945\")]\n",
    "df_filtered = df_filtered[df_filtered['event'].str.contains('war', case=False)]\n",
    "df_limited = df_filtered.head(50)"
   ]
  },
  {
   "cell_type": "code",
   "execution_count": 9,
   "metadata": {},
   "outputs": [
    {
     "data": {
      "application/vnd.plotly.v1+json": {
       "config": {
        "plotlyServerURL": "https://plot.ly"
       },
       "data": [
        {
         "customdata": [
          [
           "World War II"
          ],
          [
           "World War II"
          ],
          [
           "World War II"
          ],
          [
           "World War II"
          ],
          [
           "World War II"
          ],
          [
           "World War II"
          ],
          [
           "World War II"
          ],
          [
           "World War II"
          ],
          [
           "World War II"
          ],
          [
           "World War II"
          ],
          [
           "World War II"
          ],
          [
           "World War II"
          ],
          [
           "World War II"
          ],
          [
           "World War II"
          ],
          [
           "World War II"
          ],
          [
           "World War II"
          ],
          [
           "World War II"
          ],
          [
           "World War II"
          ],
          [
           "World War II"
          ],
          [
           "World War II"
          ],
          [
           "World War II"
          ],
          [
           "Junkers Ju 87"
          ],
          [
           "Junkers Ju 87"
          ],
          [
           "Junkers Ju 87"
          ],
          [
           "Junkers Ju 87"
          ],
          [
           "Junkers Ju 87"
          ],
          [
           "Junkers Ju 87"
          ],
          [
           "War crimes in World War II"
          ],
          [
           "War crimes in World War II"
          ],
          [
           "War crimes in World War II"
          ],
          [
           "War crimes in World War II"
          ],
          [
           "War crimes in World War II"
          ],
          [
           "Allied-occupied Germany"
          ],
          [
           "Allied-occupied Germany"
          ],
          [
           "Allied-occupied Germany"
          ],
          [
           "Causes of World War II"
          ],
          [
           "Junkers Ju 87"
          ],
          [
           "Junkers Ju 87"
          ],
          [
           "Junkers Ju 87"
          ],
          [
           "International Military Tribunal for the Far East"
          ],
          [
           "Causes of World War II"
          ],
          [
           "Causes of World War II"
          ],
          [
           "Occupation of Japan"
          ],
          [
           "Occupation of Japan"
          ],
          [
           "Occupation of Japan"
          ],
          [
           "Causes of World War II"
          ],
          [
           "Causes of World War II"
          ],
          [
           "Causes of World War II"
          ],
          [
           "Nuremberg trials"
          ],
          [
           "Causes of World War II"
          ]
         ],
         "hovertemplate": "<b>%{hovertext}</b><br><br>Year=%{x}<br>index=%{y}<br>source=%{customdata[0]}<extra></extra>",
         "hovertext": [
          ". World War II is generally considered to have begun on 1 September 1939, when",
          "in June 1940, the war continued primarily between Germany and the",
          "and pushed Germany and its allies westward. In 1944 and 1945, Japan suffered reversals in mainland Asia, while the Allies crippled the",
          "and pushed Germany and its allies westward. In 1944 and 1945, Japan suffered reversals in mainland Asia, while the Allies crippled the",
          "World War II began in Europe on 1 September 1939",
          "'s declaration of war on Germany two days later on 3 September 1939. Dates for the beginning of the",
          ", who stated that the Sino-Japanese War and war in Europe and its colonies occurred simultaneously, and the two wars became World War II in 1941.",
          "The exact date of the war's end also is not universally agreed upon. It was generally accepted at the time that the war ended with the armistice of 15 August 1945 (",
          "as an opportunity to test in combat their most advanced weapons and tactics. The Nationalists won the civil war in April 1939; Franco, now dictator, remained officially neutral during World War",
          "in 1939, the ongoing Second Sino-Japanese War",
          "and the Finno-Soviet war ended in March 1940 with",
          "by both sides, by 1940 the war between China and Japan was at a stalemate. To increase pressure on China by blocking supply routes, and to better position Japanese forces in the event of a war with th",
          "Since early 1941, the United States and Japan had been engaged in negotiations in an attempt to improve their strained relations and end the war in China. During these negotiations, Japan advanced a n",
          "Although the British argued for further operations in the Balkans to bring Turkey into the war, in May 1943, the Americans extracted a British commitment to limit Allied operations in the Mediterranea",
          "Although the British argued for further operations in the Balkans to bring Turkey into the war, in May 1943, the Americans extracted a British commitment to limit Allied operations in the Mediterranea",
          "while the latter included agreement that the Western Allies would invade Europe in 1944 and that the Soviet Union would declare war on Japan within three months of Germany's defeat.",
          "that occurred between 6 April and 7 June 1945. American naval and amphibious forces also moved towards Japan, taking",
          "on 2 September 1945, ending the war.",
          "in July 1944, the Allied nations drew up an economic framework for the post-war world. The agreement created the",
          "system of deadly camps during 1942–43, when wartime privation and hunger caused numerous deaths of inmates,",
          ", for work in mines and war industries. After 1942, the number reached 10 million.",
          "had largely replaced the Ju 87, but it remained in service until the end of the war in 1945.",
          "On 6 October 1939, with the war already underway, 120 of the planned Ju 87 Tr(C)s on order at that point were cancelled. Despite the cancellation, the tests continued using catapults. The Ju 87 C had ",
          "On 6 October 1939, with the war already underway, 120 of the planned Ju 87 Tr(C)s on order at that point were cancelled. Despite the cancellation, the tests continued using catapults. The Ju 87 C had ",
          "During the course of the war, little damage was done to the WFG plant at Lemwerder. Attacks throughout 1940-45 caused little lasting damage and succeeded only in damaging some Ju 87 airframes, in cont",
          "A Ju 87 achieved the first air victory during World War II on the morning of 1 September 1939, when",
          "units contained a further 70 Ju 87s and Fw 190s between them. Chronic fuel shortages kept the Stukas grounded and sorties decreased until the end of the war in May 1945.",
          "Of a pre-war population of about 350,000 ethnic Germans in the Vojvodina, the 1958 census revealed 32,000 left. Officially, Yugoslavia denied the forcible starvation and killing of their Schwowisch po",
          "This section includes war crimes which were committed from 7 December 1941 when the United States was",
          "(Roma) inside its borders. State policy towards Serbs had first been declared in the words of Milovan Žanić, a minister of the NDH Legislative council, on 2 May 1941:",
          "It was established in August 1941 and not dismantled until April 1945, shortly before the end of the war. Jasenovac was a complex of five subcamps and three smaller camps spread out over 240 square ki",
          "It was established in August 1941 and not dismantled until April 1945, shortly before the end of the war. Jasenovac was a complex of five subcamps and three smaller camps spread out over 240 square ki",
          ", annexed by Germany from Lithuania before the war, was annexed by the Soviet Union in 1945 and transferred to the",
          ", with the exact line of the boundary to be determined in a final German peace treaty. This treaty was expected to confirm the shifting westward of Poland's borders, as the United Kingdom and United S",
          "between Soviet and U.S. forces at the end of hostilities, mostly lying eastward of the July 1945-established",
          "on September 1, 1939, and the subsequent declarations of war on Germany made by",
          "Post-war research revealed that generally, bombing pilots were far less effective than they claimed.  The German Luftwaffe, in particular, did not do a scientific analysis of the Ju 87 pilot claims in",
          "Post-war research revealed that generally, bombing pilots were far less effective than they claimed.  The German Luftwaffe, in particular, did not do a scientific analysis of the Ju 87 pilot claims in",
          ". It was abandoned in North Africa and found by British forces in 1941. The Ju 87 was donated by the British government and sent to the US during the war. It was fully restored in 1974 by the",
          ". The Potsdam Declaration (July 1945) had stated, \"stern justice shall be meted out to all war criminals, including those who have visited cruelties upon our prisoners,\" though it did not specifically",
          "journal over the reasons for the outbreak of the war in 1939. Mason had contended that a \"flight into war\" had been imposed on Hitler by a structural economic crisis, which confronted Hitler with the ",
          "Mason thought German foreign policy was driven by domestic political considerations, and the launch the war in 1939 was best understood as a \"barbaric variant of social imperialism\".",
          "American planning for a post-war occupation of Japan began as early as February 1942, when President",
          ") became first post-war Prime Minister on August 17, 1945.",
          "Repatriation of Japanese people living in other parts of Asia and hundreds of thousands of demobilized prisoners of war only aggravated the hunger problem in Japan, as these people put more strain on ",
          "to help the Germans against the Soviets. The Spanish Civil War was considered in the 1940s and 1950s to be a prelude to World War II, which was the case to some extent by changing it into an antifasci",
          "to help the Germans against the Soviets. The Spanish Civil War was considered in the 1940s and 1950s to be a prelude to World War II, which was the case to some extent by changing it into an antifasci",
          "to help the Germans against the Soviets. The Spanish Civil War was considered in the 1940s and 1950s to be a prelude to World War II, which was the case to some extent by changing it into an antifasci",
          "The judges determined that crimes against humanity concerning German Jews before 1939 were not under the court's jurisdiction because the prosecution had not proven a connection to aggressive war.",
          "In 1939, neither Germany nor the Soviet Union was ready to go to war with each other. The Soviet Union had lost territory to Poland in 1920. Although officially called a \"non-aggression treaty,\" the p"
         ],
         "legendgroup": "",
         "marker": {
          "color": "#636efa",
          "symbol": "circle"
         },
         "mode": "markers",
         "name": "",
         "orientation": "h",
         "showlegend": false,
         "textfont": {
          "size": 8
         },
         "type": "scatter",
         "x": [
          "1939",
          "1940",
          "1944",
          "1945",
          "1939",
          "1939",
          "1941",
          "1945",
          "1939",
          "1939",
          "1940",
          "1940",
          "1941",
          "1943",
          "1944",
          "1944",
          "1945",
          "1945",
          "1944",
          "1942",
          "1942",
          "1945",
          "1939",
          "1940",
          "1940",
          "1939",
          "1945",
          "1944",
          "1941",
          "1941",
          "1945",
          "1941",
          "1945",
          "1945",
          "1945",
          "1939",
          "1945",
          "1939",
          "1941",
          "1945",
          "1939",
          "1939",
          "1942",
          "1945",
          "1945",
          "1939",
          "1941",
          "1940",
          "1939",
          "1939"
         ],
         "xaxis": "x",
         "y": [
          2,
          4,
          12,
          13,
          14,
          15,
          18,
          21,
          42,
          48,
          60,
          92,
          97,
          104,
          105,
          128,
          149,
          152,
          168,
          179,
          183,
          205,
          241,
          242,
          287,
          299,
          412,
          442,
          447,
          464,
          466,
          467,
          473,
          474,
          475,
          527,
          533,
          534,
          542,
          585,
          674,
          676,
          687,
          694,
          704,
          816,
          817,
          818,
          893,
          934
         ],
         "yaxis": "y"
        }
       ],
       "layout": {
        "height": 400,
        "legend": {
         "tracegroupgap": 0
        },
        "template": {
         "data": {
          "bar": [
           {
            "error_x": {
             "color": "#2a3f5f"
            },
            "error_y": {
             "color": "#2a3f5f"
            },
            "marker": {
             "line": {
              "color": "#E5ECF6",
              "width": 0.5
             },
             "pattern": {
              "fillmode": "overlay",
              "size": 10,
              "solidity": 0.2
             }
            },
            "type": "bar"
           }
          ],
          "barpolar": [
           {
            "marker": {
             "line": {
              "color": "#E5ECF6",
              "width": 0.5
             },
             "pattern": {
              "fillmode": "overlay",
              "size": 10,
              "solidity": 0.2
             }
            },
            "type": "barpolar"
           }
          ],
          "carpet": [
           {
            "aaxis": {
             "endlinecolor": "#2a3f5f",
             "gridcolor": "white",
             "linecolor": "white",
             "minorgridcolor": "white",
             "startlinecolor": "#2a3f5f"
            },
            "baxis": {
             "endlinecolor": "#2a3f5f",
             "gridcolor": "white",
             "linecolor": "white",
             "minorgridcolor": "white",
             "startlinecolor": "#2a3f5f"
            },
            "type": "carpet"
           }
          ],
          "choropleth": [
           {
            "colorbar": {
             "outlinewidth": 0,
             "ticks": ""
            },
            "type": "choropleth"
           }
          ],
          "contour": [
           {
            "colorbar": {
             "outlinewidth": 0,
             "ticks": ""
            },
            "colorscale": [
             [
              0,
              "#0d0887"
             ],
             [
              0.1111111111111111,
              "#46039f"
             ],
             [
              0.2222222222222222,
              "#7201a8"
             ],
             [
              0.3333333333333333,
              "#9c179e"
             ],
             [
              0.4444444444444444,
              "#bd3786"
             ],
             [
              0.5555555555555556,
              "#d8576b"
             ],
             [
              0.6666666666666666,
              "#ed7953"
             ],
             [
              0.7777777777777778,
              "#fb9f3a"
             ],
             [
              0.8888888888888888,
              "#fdca26"
             ],
             [
              1,
              "#f0f921"
             ]
            ],
            "type": "contour"
           }
          ],
          "contourcarpet": [
           {
            "colorbar": {
             "outlinewidth": 0,
             "ticks": ""
            },
            "type": "contourcarpet"
           }
          ],
          "heatmap": [
           {
            "colorbar": {
             "outlinewidth": 0,
             "ticks": ""
            },
            "colorscale": [
             [
              0,
              "#0d0887"
             ],
             [
              0.1111111111111111,
              "#46039f"
             ],
             [
              0.2222222222222222,
              "#7201a8"
             ],
             [
              0.3333333333333333,
              "#9c179e"
             ],
             [
              0.4444444444444444,
              "#bd3786"
             ],
             [
              0.5555555555555556,
              "#d8576b"
             ],
             [
              0.6666666666666666,
              "#ed7953"
             ],
             [
              0.7777777777777778,
              "#fb9f3a"
             ],
             [
              0.8888888888888888,
              "#fdca26"
             ],
             [
              1,
              "#f0f921"
             ]
            ],
            "type": "heatmap"
           }
          ],
          "heatmapgl": [
           {
            "colorbar": {
             "outlinewidth": 0,
             "ticks": ""
            },
            "colorscale": [
             [
              0,
              "#0d0887"
             ],
             [
              0.1111111111111111,
              "#46039f"
             ],
             [
              0.2222222222222222,
              "#7201a8"
             ],
             [
              0.3333333333333333,
              "#9c179e"
             ],
             [
              0.4444444444444444,
              "#bd3786"
             ],
             [
              0.5555555555555556,
              "#d8576b"
             ],
             [
              0.6666666666666666,
              "#ed7953"
             ],
             [
              0.7777777777777778,
              "#fb9f3a"
             ],
             [
              0.8888888888888888,
              "#fdca26"
             ],
             [
              1,
              "#f0f921"
             ]
            ],
            "type": "heatmapgl"
           }
          ],
          "histogram": [
           {
            "marker": {
             "pattern": {
              "fillmode": "overlay",
              "size": 10,
              "solidity": 0.2
             }
            },
            "type": "histogram"
           }
          ],
          "histogram2d": [
           {
            "colorbar": {
             "outlinewidth": 0,
             "ticks": ""
            },
            "colorscale": [
             [
              0,
              "#0d0887"
             ],
             [
              0.1111111111111111,
              "#46039f"
             ],
             [
              0.2222222222222222,
              "#7201a8"
             ],
             [
              0.3333333333333333,
              "#9c179e"
             ],
             [
              0.4444444444444444,
              "#bd3786"
             ],
             [
              0.5555555555555556,
              "#d8576b"
             ],
             [
              0.6666666666666666,
              "#ed7953"
             ],
             [
              0.7777777777777778,
              "#fb9f3a"
             ],
             [
              0.8888888888888888,
              "#fdca26"
             ],
             [
              1,
              "#f0f921"
             ]
            ],
            "type": "histogram2d"
           }
          ],
          "histogram2dcontour": [
           {
            "colorbar": {
             "outlinewidth": 0,
             "ticks": ""
            },
            "colorscale": [
             [
              0,
              "#0d0887"
             ],
             [
              0.1111111111111111,
              "#46039f"
             ],
             [
              0.2222222222222222,
              "#7201a8"
             ],
             [
              0.3333333333333333,
              "#9c179e"
             ],
             [
              0.4444444444444444,
              "#bd3786"
             ],
             [
              0.5555555555555556,
              "#d8576b"
             ],
             [
              0.6666666666666666,
              "#ed7953"
             ],
             [
              0.7777777777777778,
              "#fb9f3a"
             ],
             [
              0.8888888888888888,
              "#fdca26"
             ],
             [
              1,
              "#f0f921"
             ]
            ],
            "type": "histogram2dcontour"
           }
          ],
          "mesh3d": [
           {
            "colorbar": {
             "outlinewidth": 0,
             "ticks": ""
            },
            "type": "mesh3d"
           }
          ],
          "parcoords": [
           {
            "line": {
             "colorbar": {
              "outlinewidth": 0,
              "ticks": ""
             }
            },
            "type": "parcoords"
           }
          ],
          "pie": [
           {
            "automargin": true,
            "type": "pie"
           }
          ],
          "scatter": [
           {
            "fillpattern": {
             "fillmode": "overlay",
             "size": 10,
             "solidity": 0.2
            },
            "type": "scatter"
           }
          ],
          "scatter3d": [
           {
            "line": {
             "colorbar": {
              "outlinewidth": 0,
              "ticks": ""
             }
            },
            "marker": {
             "colorbar": {
              "outlinewidth": 0,
              "ticks": ""
             }
            },
            "type": "scatter3d"
           }
          ],
          "scattercarpet": [
           {
            "marker": {
             "colorbar": {
              "outlinewidth": 0,
              "ticks": ""
             }
            },
            "type": "scattercarpet"
           }
          ],
          "scattergeo": [
           {
            "marker": {
             "colorbar": {
              "outlinewidth": 0,
              "ticks": ""
             }
            },
            "type": "scattergeo"
           }
          ],
          "scattergl": [
           {
            "marker": {
             "colorbar": {
              "outlinewidth": 0,
              "ticks": ""
             }
            },
            "type": "scattergl"
           }
          ],
          "scattermapbox": [
           {
            "marker": {
             "colorbar": {
              "outlinewidth": 0,
              "ticks": ""
             }
            },
            "type": "scattermapbox"
           }
          ],
          "scatterpolar": [
           {
            "marker": {
             "colorbar": {
              "outlinewidth": 0,
              "ticks": ""
             }
            },
            "type": "scatterpolar"
           }
          ],
          "scatterpolargl": [
           {
            "marker": {
             "colorbar": {
              "outlinewidth": 0,
              "ticks": ""
             }
            },
            "type": "scatterpolargl"
           }
          ],
          "scatterternary": [
           {
            "marker": {
             "colorbar": {
              "outlinewidth": 0,
              "ticks": ""
             }
            },
            "type": "scatterternary"
           }
          ],
          "surface": [
           {
            "colorbar": {
             "outlinewidth": 0,
             "ticks": ""
            },
            "colorscale": [
             [
              0,
              "#0d0887"
             ],
             [
              0.1111111111111111,
              "#46039f"
             ],
             [
              0.2222222222222222,
              "#7201a8"
             ],
             [
              0.3333333333333333,
              "#9c179e"
             ],
             [
              0.4444444444444444,
              "#bd3786"
             ],
             [
              0.5555555555555556,
              "#d8576b"
             ],
             [
              0.6666666666666666,
              "#ed7953"
             ],
             [
              0.7777777777777778,
              "#fb9f3a"
             ],
             [
              0.8888888888888888,
              "#fdca26"
             ],
             [
              1,
              "#f0f921"
             ]
            ],
            "type": "surface"
           }
          ],
          "table": [
           {
            "cells": {
             "fill": {
              "color": "#EBF0F8"
             },
             "line": {
              "color": "white"
             }
            },
            "header": {
             "fill": {
              "color": "#C8D4E3"
             },
             "line": {
              "color": "white"
             }
            },
            "type": "table"
           }
          ]
         },
         "layout": {
          "annotationdefaults": {
           "arrowcolor": "#2a3f5f",
           "arrowhead": 0,
           "arrowwidth": 1
          },
          "autotypenumbers": "strict",
          "coloraxis": {
           "colorbar": {
            "outlinewidth": 0,
            "ticks": ""
           }
          },
          "colorscale": {
           "diverging": [
            [
             0,
             "#8e0152"
            ],
            [
             0.1,
             "#c51b7d"
            ],
            [
             0.2,
             "#de77ae"
            ],
            [
             0.3,
             "#f1b6da"
            ],
            [
             0.4,
             "#fde0ef"
            ],
            [
             0.5,
             "#f7f7f7"
            ],
            [
             0.6,
             "#e6f5d0"
            ],
            [
             0.7,
             "#b8e186"
            ],
            [
             0.8,
             "#7fbc41"
            ],
            [
             0.9,
             "#4d9221"
            ],
            [
             1,
             "#276419"
            ]
           ],
           "sequential": [
            [
             0,
             "#0d0887"
            ],
            [
             0.1111111111111111,
             "#46039f"
            ],
            [
             0.2222222222222222,
             "#7201a8"
            ],
            [
             0.3333333333333333,
             "#9c179e"
            ],
            [
             0.4444444444444444,
             "#bd3786"
            ],
            [
             0.5555555555555556,
             "#d8576b"
            ],
            [
             0.6666666666666666,
             "#ed7953"
            ],
            [
             0.7777777777777778,
             "#fb9f3a"
            ],
            [
             0.8888888888888888,
             "#fdca26"
            ],
            [
             1,
             "#f0f921"
            ]
           ],
           "sequentialminus": [
            [
             0,
             "#0d0887"
            ],
            [
             0.1111111111111111,
             "#46039f"
            ],
            [
             0.2222222222222222,
             "#7201a8"
            ],
            [
             0.3333333333333333,
             "#9c179e"
            ],
            [
             0.4444444444444444,
             "#bd3786"
            ],
            [
             0.5555555555555556,
             "#d8576b"
            ],
            [
             0.6666666666666666,
             "#ed7953"
            ],
            [
             0.7777777777777778,
             "#fb9f3a"
            ],
            [
             0.8888888888888888,
             "#fdca26"
            ],
            [
             1,
             "#f0f921"
            ]
           ]
          },
          "colorway": [
           "#636efa",
           "#EF553B",
           "#00cc96",
           "#ab63fa",
           "#FFA15A",
           "#19d3f3",
           "#FF6692",
           "#B6E880",
           "#FF97FF",
           "#FECB52"
          ],
          "font": {
           "color": "#2a3f5f"
          },
          "geo": {
           "bgcolor": "white",
           "lakecolor": "white",
           "landcolor": "#E5ECF6",
           "showlakes": true,
           "showland": true,
           "subunitcolor": "white"
          },
          "hoverlabel": {
           "align": "left"
          },
          "hovermode": "closest",
          "mapbox": {
           "style": "light"
          },
          "paper_bgcolor": "white",
          "plot_bgcolor": "#E5ECF6",
          "polar": {
           "angularaxis": {
            "gridcolor": "white",
            "linecolor": "white",
            "ticks": ""
           },
           "bgcolor": "#E5ECF6",
           "radialaxis": {
            "gridcolor": "white",
            "linecolor": "white",
            "ticks": ""
           }
          },
          "scene": {
           "xaxis": {
            "backgroundcolor": "#E5ECF6",
            "gridcolor": "white",
            "gridwidth": 2,
            "linecolor": "white",
            "showbackground": true,
            "ticks": "",
            "zerolinecolor": "white"
           },
           "yaxis": {
            "backgroundcolor": "#E5ECF6",
            "gridcolor": "white",
            "gridwidth": 2,
            "linecolor": "white",
            "showbackground": true,
            "ticks": "",
            "zerolinecolor": "white"
           },
           "zaxis": {
            "backgroundcolor": "#E5ECF6",
            "gridcolor": "white",
            "gridwidth": 2,
            "linecolor": "white",
            "showbackground": true,
            "ticks": "",
            "zerolinecolor": "white"
           }
          },
          "shapedefaults": {
           "line": {
            "color": "#2a3f5f"
           }
          },
          "ternary": {
           "aaxis": {
            "gridcolor": "white",
            "linecolor": "white",
            "ticks": ""
           },
           "baxis": {
            "gridcolor": "white",
            "linecolor": "white",
            "ticks": ""
           },
           "bgcolor": "#E5ECF6",
           "caxis": {
            "gridcolor": "white",
            "linecolor": "white",
            "ticks": ""
           }
          },
          "title": {
           "x": 0.05
          },
          "xaxis": {
           "automargin": true,
           "gridcolor": "white",
           "linecolor": "white",
           "ticks": "",
           "title": {
            "standoff": 15
           },
           "zerolinecolor": "white",
           "zerolinewidth": 2
          },
          "yaxis": {
           "automargin": true,
           "gridcolor": "white",
           "linecolor": "white",
           "ticks": "",
           "title": {
            "standoff": 15
           },
           "zerolinecolor": "white",
           "zerolinewidth": 2
          }
         }
        },
        "title": {
         "text": "World War II Timeline (Filtered & Limited)"
        },
        "xaxis": {
         "anchor": "y",
         "domain": [
          0,
          1
         ],
         "dtick": 1,
         "tick0": 1939,
         "tickangle": -45,
         "tickmode": "linear",
         "title": {
          "text": "Year"
         }
        },
        "yaxis": {
         "anchor": "x",
         "domain": [
          0,
          1
         ],
         "title": {
          "text": "index"
         }
        }
       }
      }
     },
     "metadata": {},
     "output_type": "display_data"
    }
   ],
   "source": [
    "# 3. Create a scatter plot without displaying the text directly on the plot, but show it on hover\n",
    "fig = px.scatter(df_limited, x=\"date\", hover_name=\"event\", hover_data={\"source\": True},\n",
    "                 title=\"World War II Timeline (Filtered & Limited)\",\n",
    "                 labels={\"date\": \"Year\"}, height=400)\n",
    "\n",
    "# 4. Reduce the font size of the hover text (optional but makes hover text smaller)\n",
    "fig.update_traces(textfont_size=8)\n",
    "\n",
    "# 5. Adjust the x-axis ticks and rotate labels for clarity\n",
    "fig.update_layout(xaxis=dict(tickmode=\"linear\", tick0=1939, dtick=1, tickangle=-45))\n",
    "\n",
    "# Show the plot\n",
    "fig.show()"
   ]
  }
 ],
 "metadata": {
  "kernelspec": {
   "display_name": ".venv",
   "language": "python",
   "name": "python3"
  },
  "language_info": {
   "codemirror_mode": {
    "name": "ipython",
    "version": 3
   },
   "file_extension": ".py",
   "mimetype": "text/x-python",
   "name": "python",
   "nbconvert_exporter": "python",
   "pygments_lexer": "ipython3",
   "version": "3.12.5"
  }
 },
 "nbformat": 4,
 "nbformat_minor": 2
}
